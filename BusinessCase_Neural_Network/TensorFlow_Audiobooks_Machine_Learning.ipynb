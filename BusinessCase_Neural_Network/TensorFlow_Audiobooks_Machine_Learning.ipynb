{
 "cells": [
  {
   "cell_type": "markdown",
   "metadata": {},
   "source": [
    "## Create the machine learning algorithm\n",
    "\n"
   ]
  },
  {
   "cell_type": "markdown",
   "metadata": {},
   "source": [
    "### Import the relevant libraries"
   ]
  },
  {
   "cell_type": "code",
   "execution_count": 1,
   "metadata": {},
   "outputs": [],
   "source": [
    "import numpy as np\n",
    "import tensorflow as tf\n",
    "import pandas as pd\n",
    "import matplotlib.pyplot as plt"
   ]
  },
  {
   "cell_type": "markdown",
   "metadata": {},
   "source": [
    "### Load Data"
   ]
  },
  {
   "cell_type": "code",
   "execution_count": 2,
   "metadata": {},
   "outputs": [],
   "source": [
    "records = []\n",
    "\n",
    "npz = np.load('Audiobooks_data_train.npz')\n",
    "\n",
    "train_inputs = npz['inputs'].astype(float)\n",
    "train_targets = npz['targets'].astype(int)\n",
    "\n",
    "npz = np.load('Audiobooks_data_validation.npz')\n",
    "validation_inputs, validation_targets = npz['inputs'].astype(float), npz['targets'].astype(int)\n",
    "\n",
    "npz = np.load('Audiobooks_data_test.npz')\n",
    "test_inputs, test_targets = npz['inputs'].astype(float), npz['targets'].astype(int)"
   ]
  },
  {
   "cell_type": "code",
   "execution_count": 3,
   "metadata": {},
   "outputs": [
    {
     "data": {
      "text/plain": [
       "(3579, 10)"
      ]
     },
     "execution_count": 3,
     "metadata": {},
     "output_type": "execute_result"
    }
   ],
   "source": [
    "train_inputs.shape"
   ]
  },
  {
   "cell_type": "code",
   "execution_count": 4,
   "metadata": {},
   "outputs": [
    {
     "data": {
      "text/plain": [
       "(448,)"
      ]
     },
     "execution_count": 4,
     "metadata": {},
     "output_type": "execute_result"
    }
   ],
   "source": [
    "test_targets.shape"
   ]
  },
  {
   "cell_type": "code",
   "execution_count": 5,
   "metadata": {},
   "outputs": [
    {
     "data": {
      "text/plain": [
       "array([0, 1, 1, ..., 1, 1, 0])"
      ]
     },
     "execution_count": 5,
     "metadata": {},
     "output_type": "execute_result"
    }
   ],
   "source": [
    "train_targets"
   ]
  },
  {
   "cell_type": "markdown",
   "metadata": {},
   "source": [
    "## Model"
   ]
  },
  {
   "cell_type": "code",
   "execution_count": 106,
   "metadata": {},
   "outputs": [
    {
     "name": "stderr",
     "output_type": "stream",
     "text": [
      "/opt/anaconda3/envs/py3-TF2/lib/python3.12/site-packages/keras/src/layers/core/dense.py:87: UserWarning: Do not pass an `input_shape`/`input_dim` argument to a layer. When using Sequential models, prefer using an `Input(shape)` object as the first layer in the model instead.\n",
      "  super().__init__(activity_regularizer=activity_regularizer, **kwargs)\n"
     ]
    }
   ],
   "source": [
    "from tensorflow import keras\n",
    "from tensorflow.keras import layers\n",
    "\n",
    "config = {\n",
    "    'input_size': [train_inputs.shape[1]],\n",
    "    'hidden_layer_size': 64,\n",
    "    'output_size': 1,\n",
    "    'learning_rate': 0.00003,\n",
    "    'batch_size': 64,\n",
    "    'epoch_size': 200\n",
    "}\n",
    "\n",
    "model = keras.Sequential([\n",
    "    layers.Dense(config['hidden_layer_size'], activation='relu', input_shape=config['input_size']),\n",
    "    # layers.BatchNormalization(),\n",
    "\n",
    "    layers.Dense(config['hidden_layer_size'], activation='relu'),    \n",
    "    # layers.BatchNormalization(),\n",
    "\n",
    "    layers.Dense(config['output_size'], activation='sigmoid')\n",
    "])\n",
    "\n",
    "custom_optimizer = tf.keras.optimizers.Adam(learning_rate=config['learning_rate'])\n",
    "model.compile(optimizer=custom_optimizer, loss='binary_crossentropy', metrics=['binary_accuracy'])"
   ]
  },
  {
   "cell_type": "markdown",
   "metadata": {},
   "source": [
    "## Training"
   ]
  },
  {
   "cell_type": "code",
   "execution_count": 107,
   "metadata": {},
   "outputs": [
    {
     "name": "stdout",
     "output_type": "stream",
     "text": [
      "Epoch 1/200\n",
      "56/56 - 1s - 15ms/step - binary_accuracy: 0.5781 - loss: 0.6715 - val_binary_accuracy: 0.5817 - val_loss: 0.6687\n",
      "Epoch 2/200\n",
      "56/56 - 0s - 746us/step - binary_accuracy: 0.6038 - loss: 0.6615 - val_binary_accuracy: 0.6174 - val_loss: 0.6581\n",
      "Epoch 3/200\n",
      "56/56 - 0s - 675us/step - binary_accuracy: 0.6329 - loss: 0.6521 - val_binary_accuracy: 0.6421 - val_loss: 0.6478\n",
      "Epoch 4/200\n",
      "56/56 - 0s - 691us/step - binary_accuracy: 0.6521 - loss: 0.6432 - val_binary_accuracy: 0.6600 - val_loss: 0.6382\n",
      "Epoch 5/200\n",
      "56/56 - 0s - 730us/step - binary_accuracy: 0.6695 - loss: 0.6347 - val_binary_accuracy: 0.6779 - val_loss: 0.6289\n",
      "Epoch 6/200\n",
      "56/56 - 0s - 2ms/step - binary_accuracy: 0.6829 - loss: 0.6266 - val_binary_accuracy: 0.7025 - val_loss: 0.6201\n",
      "Epoch 7/200\n",
      "56/56 - 0s - 713us/step - binary_accuracy: 0.6918 - loss: 0.6187 - val_binary_accuracy: 0.7136 - val_loss: 0.6112\n",
      "Epoch 8/200\n",
      "56/56 - 0s - 680us/step - binary_accuracy: 0.7005 - loss: 0.6111 - val_binary_accuracy: 0.7293 - val_loss: 0.6028\n",
      "Epoch 9/200\n",
      "56/56 - 0s - 687us/step - binary_accuracy: 0.7072 - loss: 0.6037 - val_binary_accuracy: 0.7360 - val_loss: 0.5945\n",
      "Epoch 10/200\n",
      "56/56 - 0s - 734us/step - binary_accuracy: 0.7161 - loss: 0.5965 - val_binary_accuracy: 0.7450 - val_loss: 0.5865\n",
      "Epoch 11/200\n",
      "56/56 - 0s - 740us/step - binary_accuracy: 0.7242 - loss: 0.5894 - val_binary_accuracy: 0.7517 - val_loss: 0.5787\n",
      "Epoch 12/200\n",
      "56/56 - 0s - 667us/step - binary_accuracy: 0.7318 - loss: 0.5825 - val_binary_accuracy: 0.7584 - val_loss: 0.5712\n",
      "Epoch 13/200\n",
      "56/56 - 0s - 757us/step - binary_accuracy: 0.7346 - loss: 0.5756 - val_binary_accuracy: 0.7629 - val_loss: 0.5638\n",
      "Epoch 14/200\n",
      "56/56 - 0s - 735us/step - binary_accuracy: 0.7407 - loss: 0.5690 - val_binary_accuracy: 0.7651 - val_loss: 0.5565\n",
      "Epoch 15/200\n",
      "56/56 - 0s - 840us/step - binary_accuracy: 0.7441 - loss: 0.5624 - val_binary_accuracy: 0.7651 - val_loss: 0.5491\n",
      "Epoch 16/200\n",
      "56/56 - 0s - 871us/step - binary_accuracy: 0.7460 - loss: 0.5560 - val_binary_accuracy: 0.7718 - val_loss: 0.5418\n",
      "Epoch 17/200\n",
      "56/56 - 0s - 699us/step - binary_accuracy: 0.7466 - loss: 0.5496 - val_binary_accuracy: 0.7718 - val_loss: 0.5349\n",
      "Epoch 18/200\n",
      "56/56 - 0s - 740us/step - binary_accuracy: 0.7471 - loss: 0.5434 - val_binary_accuracy: 0.7763 - val_loss: 0.5280\n",
      "Epoch 19/200\n",
      "56/56 - 0s - 731us/step - binary_accuracy: 0.7510 - loss: 0.5374 - val_binary_accuracy: 0.7763 - val_loss: 0.5213\n",
      "Epoch 20/200\n",
      "56/56 - 0s - 656us/step - binary_accuracy: 0.7530 - loss: 0.5315 - val_binary_accuracy: 0.7763 - val_loss: 0.5148\n",
      "Epoch 21/200\n",
      "56/56 - 0s - 692us/step - binary_accuracy: 0.7538 - loss: 0.5258 - val_binary_accuracy: 0.7785 - val_loss: 0.5087\n",
      "Epoch 22/200\n",
      "56/56 - 0s - 724us/step - binary_accuracy: 0.7541 - loss: 0.5203 - val_binary_accuracy: 0.7763 - val_loss: 0.5026\n",
      "Epoch 23/200\n",
      "56/56 - 0s - 810us/step - binary_accuracy: 0.7572 - loss: 0.5150 - val_binary_accuracy: 0.7763 - val_loss: 0.4970\n",
      "Epoch 24/200\n",
      "56/56 - 0s - 833us/step - binary_accuracy: 0.7541 - loss: 0.5100 - val_binary_accuracy: 0.7763 - val_loss: 0.4915\n",
      "Epoch 25/200\n",
      "56/56 - 0s - 679us/step - binary_accuracy: 0.7592 - loss: 0.5050 - val_binary_accuracy: 0.7763 - val_loss: 0.4860\n",
      "Epoch 26/200\n",
      "56/56 - 0s - 654us/step - binary_accuracy: 0.7572 - loss: 0.5002 - val_binary_accuracy: 0.7763 - val_loss: 0.4809\n",
      "Epoch 27/200\n",
      "56/56 - 0s - 679us/step - binary_accuracy: 0.7592 - loss: 0.4956 - val_binary_accuracy: 0.7785 - val_loss: 0.4761\n",
      "Epoch 28/200\n",
      "56/56 - 0s - 681us/step - binary_accuracy: 0.7605 - loss: 0.4912 - val_binary_accuracy: 0.7808 - val_loss: 0.4714\n",
      "Epoch 29/200\n",
      "56/56 - 0s - 668us/step - binary_accuracy: 0.7636 - loss: 0.4870 - val_binary_accuracy: 0.7830 - val_loss: 0.4668\n",
      "Epoch 30/200\n",
      "56/56 - 0s - 661us/step - binary_accuracy: 0.7628 - loss: 0.4830 - val_binary_accuracy: 0.7852 - val_loss: 0.4625\n",
      "Epoch 31/200\n",
      "56/56 - 0s - 672us/step - binary_accuracy: 0.7633 - loss: 0.4790 - val_binary_accuracy: 0.7852 - val_loss: 0.4583\n",
      "Epoch 32/200\n",
      "56/56 - 0s - 661us/step - binary_accuracy: 0.7661 - loss: 0.4753 - val_binary_accuracy: 0.7852 - val_loss: 0.4544\n",
      "Epoch 33/200\n",
      "56/56 - 0s - 661us/step - binary_accuracy: 0.7661 - loss: 0.4717 - val_binary_accuracy: 0.7763 - val_loss: 0.4504\n",
      "Epoch 34/200\n",
      "56/56 - 0s - 1ms/step - binary_accuracy: 0.7667 - loss: 0.4683 - val_binary_accuracy: 0.7763 - val_loss: 0.4468\n",
      "Epoch 35/200\n",
      "56/56 - 0s - 683us/step - binary_accuracy: 0.7689 - loss: 0.4650 - val_binary_accuracy: 0.7740 - val_loss: 0.4432\n",
      "Epoch 36/200\n",
      "56/56 - 0s - 739us/step - binary_accuracy: 0.7681 - loss: 0.4618 - val_binary_accuracy: 0.7785 - val_loss: 0.4399\n",
      "Epoch 37/200\n",
      "56/56 - 0s - 699us/step - binary_accuracy: 0.7684 - loss: 0.4587 - val_binary_accuracy: 0.7763 - val_loss: 0.4366\n",
      "Epoch 38/200\n",
      "56/56 - 0s - 670us/step - binary_accuracy: 0.7689 - loss: 0.4557 - val_binary_accuracy: 0.7740 - val_loss: 0.4334\n",
      "Epoch 39/200\n",
      "56/56 - 0s - 659us/step - binary_accuracy: 0.7695 - loss: 0.4529 - val_binary_accuracy: 0.7763 - val_loss: 0.4303\n",
      "Epoch 40/200\n",
      "56/56 - 0s - 661us/step - binary_accuracy: 0.7698 - loss: 0.4501 - val_binary_accuracy: 0.7785 - val_loss: 0.4275\n",
      "Epoch 41/200\n",
      "56/56 - 0s - 660us/step - binary_accuracy: 0.7712 - loss: 0.4475 - val_binary_accuracy: 0.7763 - val_loss: 0.4245\n",
      "Epoch 42/200\n",
      "56/56 - 0s - 652us/step - binary_accuracy: 0.7712 - loss: 0.4448 - val_binary_accuracy: 0.7830 - val_loss: 0.4219\n",
      "Epoch 43/200\n",
      "56/56 - 0s - 649us/step - binary_accuracy: 0.7712 - loss: 0.4423 - val_binary_accuracy: 0.7808 - val_loss: 0.4192\n",
      "Epoch 44/200\n",
      "56/56 - 0s - 651us/step - binary_accuracy: 0.7754 - loss: 0.4397 - val_binary_accuracy: 0.7808 - val_loss: 0.4165\n",
      "Epoch 45/200\n",
      "56/56 - 0s - 640us/step - binary_accuracy: 0.7748 - loss: 0.4374 - val_binary_accuracy: 0.7830 - val_loss: 0.4140\n",
      "Epoch 46/200\n",
      "56/56 - 0s - 651us/step - binary_accuracy: 0.7754 - loss: 0.4351 - val_binary_accuracy: 0.7852 - val_loss: 0.4116\n",
      "Epoch 47/200\n",
      "56/56 - 0s - 641us/step - binary_accuracy: 0.7754 - loss: 0.4329 - val_binary_accuracy: 0.7808 - val_loss: 0.4094\n",
      "Epoch 48/200\n",
      "56/56 - 0s - 641us/step - binary_accuracy: 0.7756 - loss: 0.4308 - val_binary_accuracy: 0.7808 - val_loss: 0.4071\n",
      "Epoch 49/200\n",
      "56/56 - 0s - 631us/step - binary_accuracy: 0.7737 - loss: 0.4287 - val_binary_accuracy: 0.7830 - val_loss: 0.4050\n",
      "Epoch 50/200\n",
      "56/56 - 0s - 644us/step - binary_accuracy: 0.7740 - loss: 0.4267 - val_binary_accuracy: 0.7830 - val_loss: 0.4029\n",
      "Epoch 51/200\n",
      "56/56 - 0s - 650us/step - binary_accuracy: 0.7745 - loss: 0.4248 - val_binary_accuracy: 0.7808 - val_loss: 0.4010\n",
      "Epoch 52/200\n",
      "56/56 - 0s - 644us/step - binary_accuracy: 0.7751 - loss: 0.4229 - val_binary_accuracy: 0.7830 - val_loss: 0.3989\n",
      "Epoch 53/200\n",
      "56/56 - 0s - 653us/step - binary_accuracy: 0.7756 - loss: 0.4212 - val_binary_accuracy: 0.7808 - val_loss: 0.3971\n",
      "Epoch 54/200\n",
      "56/56 - 0s - 711us/step - binary_accuracy: 0.7754 - loss: 0.4195 - val_binary_accuracy: 0.7852 - val_loss: 0.3954\n",
      "Epoch 55/200\n",
      "56/56 - 0s - 699us/step - binary_accuracy: 0.7742 - loss: 0.4177 - val_binary_accuracy: 0.7808 - val_loss: 0.3938\n",
      "Epoch 56/200\n",
      "56/56 - 0s - 664us/step - binary_accuracy: 0.7748 - loss: 0.4161 - val_binary_accuracy: 0.7852 - val_loss: 0.3921\n",
      "Epoch 57/200\n",
      "56/56 - 0s - 662us/step - binary_accuracy: 0.7740 - loss: 0.4145 - val_binary_accuracy: 0.7808 - val_loss: 0.3902\n",
      "Epoch 58/200\n",
      "56/56 - 0s - 657us/step - binary_accuracy: 0.7751 - loss: 0.4130 - val_binary_accuracy: 0.7785 - val_loss: 0.3888\n",
      "Epoch 59/200\n",
      "56/56 - 0s - 669us/step - binary_accuracy: 0.7751 - loss: 0.4114 - val_binary_accuracy: 0.7830 - val_loss: 0.3872\n",
      "Epoch 60/200\n",
      "56/56 - 0s - 665us/step - binary_accuracy: 0.7751 - loss: 0.4100 - val_binary_accuracy: 0.7852 - val_loss: 0.3857\n",
      "Epoch 61/200\n",
      "56/56 - 0s - 644us/step - binary_accuracy: 0.7762 - loss: 0.4085 - val_binary_accuracy: 0.7830 - val_loss: 0.3844\n",
      "Epoch 62/200\n",
      "56/56 - 0s - 640us/step - binary_accuracy: 0.7759 - loss: 0.4073 - val_binary_accuracy: 0.7830 - val_loss: 0.3831\n",
      "Epoch 63/200\n",
      "56/56 - 0s - 657us/step - binary_accuracy: 0.7765 - loss: 0.4059 - val_binary_accuracy: 0.7897 - val_loss: 0.3818\n",
      "Epoch 64/200\n",
      "56/56 - 0s - 643us/step - binary_accuracy: 0.7779 - loss: 0.4046 - val_binary_accuracy: 0.7897 - val_loss: 0.3803\n",
      "Epoch 65/200\n",
      "56/56 - 0s - 643us/step - binary_accuracy: 0.7776 - loss: 0.4034 - val_binary_accuracy: 0.7897 - val_loss: 0.3791\n",
      "Epoch 66/200\n",
      "56/56 - 0s - 648us/step - binary_accuracy: 0.7818 - loss: 0.4022 - val_binary_accuracy: 0.7942 - val_loss: 0.3777\n",
      "Epoch 67/200\n",
      "56/56 - 0s - 637us/step - binary_accuracy: 0.7762 - loss: 0.4010 - val_binary_accuracy: 0.7942 - val_loss: 0.3764\n",
      "Epoch 68/200\n",
      "56/56 - 0s - 644us/step - binary_accuracy: 0.7801 - loss: 0.3998 - val_binary_accuracy: 0.7942 - val_loss: 0.3754\n",
      "Epoch 69/200\n",
      "56/56 - 0s - 641us/step - binary_accuracy: 0.7815 - loss: 0.3987 - val_binary_accuracy: 0.7942 - val_loss: 0.3742\n",
      "Epoch 70/200\n",
      "56/56 - 0s - 639us/step - binary_accuracy: 0.7846 - loss: 0.3976 - val_binary_accuracy: 0.7964 - val_loss: 0.3730\n",
      "Epoch 71/200\n",
      "56/56 - 0s - 643us/step - binary_accuracy: 0.7826 - loss: 0.3965 - val_binary_accuracy: 0.7964 - val_loss: 0.3721\n",
      "Epoch 72/200\n",
      "56/56 - 0s - 632us/step - binary_accuracy: 0.7846 - loss: 0.3955 - val_binary_accuracy: 0.7964 - val_loss: 0.3710\n",
      "Epoch 73/200\n",
      "56/56 - 0s - 645us/step - binary_accuracy: 0.7846 - loss: 0.3945 - val_binary_accuracy: 0.7964 - val_loss: 0.3698\n",
      "Epoch 74/200\n",
      "56/56 - 0s - 1ms/step - binary_accuracy: 0.7854 - loss: 0.3936 - val_binary_accuracy: 0.8009 - val_loss: 0.3689\n",
      "Epoch 75/200\n",
      "56/56 - 0s - 655us/step - binary_accuracy: 0.7857 - loss: 0.3927 - val_binary_accuracy: 0.7919 - val_loss: 0.3684\n",
      "Epoch 76/200\n",
      "56/56 - 0s - 633us/step - binary_accuracy: 0.7893 - loss: 0.3916 - val_binary_accuracy: 0.7964 - val_loss: 0.3673\n",
      "Epoch 77/200\n",
      "56/56 - 0s - 628us/step - binary_accuracy: 0.7888 - loss: 0.3907 - val_binary_accuracy: 0.8031 - val_loss: 0.3663\n",
      "Epoch 78/200\n",
      "56/56 - 0s - 640us/step - binary_accuracy: 0.7860 - loss: 0.3899 - val_binary_accuracy: 0.7987 - val_loss: 0.3655\n",
      "Epoch 79/200\n",
      "56/56 - 0s - 654us/step - binary_accuracy: 0.7860 - loss: 0.3889 - val_binary_accuracy: 0.7987 - val_loss: 0.3645\n",
      "Epoch 80/200\n",
      "56/56 - 0s - 659us/step - binary_accuracy: 0.7879 - loss: 0.3881 - val_binary_accuracy: 0.7987 - val_loss: 0.3637\n",
      "Epoch 81/200\n",
      "56/56 - 0s - 663us/step - binary_accuracy: 0.7924 - loss: 0.3874 - val_binary_accuracy: 0.8009 - val_loss: 0.3629\n",
      "Epoch 82/200\n",
      "56/56 - 0s - 660us/step - binary_accuracy: 0.7888 - loss: 0.3865 - val_binary_accuracy: 0.7942 - val_loss: 0.3622\n",
      "Epoch 83/200\n",
      "56/56 - 0s - 646us/step - binary_accuracy: 0.7860 - loss: 0.3857 - val_binary_accuracy: 0.7964 - val_loss: 0.3613\n",
      "Epoch 84/200\n",
      "56/56 - 0s - 660us/step - binary_accuracy: 0.7893 - loss: 0.3850 - val_binary_accuracy: 0.7942 - val_loss: 0.3605\n",
      "Epoch 85/200\n",
      "56/56 - 0s - 671us/step - binary_accuracy: 0.7899 - loss: 0.3842 - val_binary_accuracy: 0.8076 - val_loss: 0.3596\n",
      "Epoch 86/200\n",
      "56/56 - 0s - 662us/step - binary_accuracy: 0.7888 - loss: 0.3835 - val_binary_accuracy: 0.8054 - val_loss: 0.3589\n",
      "Epoch 87/200\n",
      "56/56 - 0s - 649us/step - binary_accuracy: 0.7916 - loss: 0.3828 - val_binary_accuracy: 0.7987 - val_loss: 0.3583\n",
      "Epoch 88/200\n",
      "56/56 - 0s - 666us/step - binary_accuracy: 0.7930 - loss: 0.3821 - val_binary_accuracy: 0.7987 - val_loss: 0.3575\n",
      "Epoch 89/200\n",
      "56/56 - 0s - 631us/step - binary_accuracy: 0.7941 - loss: 0.3814 - val_binary_accuracy: 0.8076 - val_loss: 0.3566\n",
      "Epoch 90/200\n",
      "56/56 - 0s - 646us/step - binary_accuracy: 0.7927 - loss: 0.3808 - val_binary_accuracy: 0.8031 - val_loss: 0.3562\n",
      "Epoch 91/200\n",
      "56/56 - 0s - 650us/step - binary_accuracy: 0.7985 - loss: 0.3800 - val_binary_accuracy: 0.7987 - val_loss: 0.3556\n",
      "Epoch 92/200\n",
      "56/56 - 0s - 662us/step - binary_accuracy: 0.7983 - loss: 0.3794 - val_binary_accuracy: 0.7987 - val_loss: 0.3549\n",
      "Epoch 93/200\n",
      "56/56 - 0s - 644us/step - binary_accuracy: 0.8016 - loss: 0.3788 - val_binary_accuracy: 0.8031 - val_loss: 0.3542\n",
      "Epoch 94/200\n",
      "56/56 - 0s - 650us/step - binary_accuracy: 0.7999 - loss: 0.3781 - val_binary_accuracy: 0.8054 - val_loss: 0.3535\n",
      "Epoch 95/200\n",
      "56/56 - 0s - 639us/step - binary_accuracy: 0.8022 - loss: 0.3775 - val_binary_accuracy: 0.8031 - val_loss: 0.3531\n",
      "Epoch 96/200\n",
      "56/56 - 0s - 639us/step - binary_accuracy: 0.8016 - loss: 0.3769 - val_binary_accuracy: 0.8076 - val_loss: 0.3526\n",
      "Epoch 97/200\n",
      "56/56 - 0s - 648us/step - binary_accuracy: 0.8047 - loss: 0.3764 - val_binary_accuracy: 0.8076 - val_loss: 0.3520\n",
      "Epoch 98/200\n",
      "56/56 - 0s - 633us/step - binary_accuracy: 0.8008 - loss: 0.3757 - val_binary_accuracy: 0.8054 - val_loss: 0.3511\n",
      "Epoch 99/200\n",
      "56/56 - 0s - 637us/step - binary_accuracy: 0.8027 - loss: 0.3752 - val_binary_accuracy: 0.8121 - val_loss: 0.3507\n",
      "Epoch 100/200\n",
      "56/56 - 0s - 629us/step - binary_accuracy: 0.8053 - loss: 0.3746 - val_binary_accuracy: 0.8076 - val_loss: 0.3501\n",
      "Epoch 101/200\n",
      "56/56 - 0s - 644us/step - binary_accuracy: 0.8089 - loss: 0.3741 - val_binary_accuracy: 0.8076 - val_loss: 0.3498\n",
      "Epoch 102/200\n",
      "56/56 - 0s - 743us/step - binary_accuracy: 0.8041 - loss: 0.3736 - val_binary_accuracy: 0.8076 - val_loss: 0.3493\n",
      "Epoch 103/200\n",
      "56/56 - 0s - 647us/step - binary_accuracy: 0.8075 - loss: 0.3729 - val_binary_accuracy: 0.8076 - val_loss: 0.3484\n",
      "Epoch 104/200\n",
      "56/56 - 0s - 642us/step - binary_accuracy: 0.8080 - loss: 0.3725 - val_binary_accuracy: 0.8076 - val_loss: 0.3480\n",
      "Epoch 105/200\n",
      "56/56 - 0s - 635us/step - binary_accuracy: 0.8078 - loss: 0.3720 - val_binary_accuracy: 0.8054 - val_loss: 0.3476\n",
      "Epoch 106/200\n",
      "56/56 - 0s - 642us/step - binary_accuracy: 0.8092 - loss: 0.3715 - val_binary_accuracy: 0.8076 - val_loss: 0.3471\n",
      "Epoch 107/200\n",
      "56/56 - 0s - 640us/step - binary_accuracy: 0.8083 - loss: 0.3711 - val_binary_accuracy: 0.8054 - val_loss: 0.3464\n",
      "Epoch 108/200\n",
      "56/56 - 0s - 649us/step - binary_accuracy: 0.8083 - loss: 0.3705 - val_binary_accuracy: 0.8054 - val_loss: 0.3463\n",
      "Epoch 109/200\n",
      "56/56 - 0s - 649us/step - binary_accuracy: 0.8108 - loss: 0.3701 - val_binary_accuracy: 0.8031 - val_loss: 0.3458\n",
      "Epoch 110/200\n",
      "56/56 - 0s - 652us/step - binary_accuracy: 0.8080 - loss: 0.3696 - val_binary_accuracy: 0.8054 - val_loss: 0.3452\n",
      "Epoch 111/200\n",
      "56/56 - 0s - 653us/step - binary_accuracy: 0.8094 - loss: 0.3692 - val_binary_accuracy: 0.8054 - val_loss: 0.3448\n",
      "Epoch 112/200\n",
      "56/56 - 0s - 651us/step - binary_accuracy: 0.8072 - loss: 0.3687 - val_binary_accuracy: 0.8054 - val_loss: 0.3446\n",
      "Epoch 113/200\n",
      "56/56 - 0s - 663us/step - binary_accuracy: 0.8111 - loss: 0.3683 - val_binary_accuracy: 0.8031 - val_loss: 0.3440\n",
      "Epoch 114/200\n",
      "56/56 - 0s - 651us/step - binary_accuracy: 0.8106 - loss: 0.3679 - val_binary_accuracy: 0.8054 - val_loss: 0.3435\n",
      "Epoch 115/200\n",
      "56/56 - 0s - 645us/step - binary_accuracy: 0.8097 - loss: 0.3674 - val_binary_accuracy: 0.7987 - val_loss: 0.3433\n",
      "Epoch 116/200\n",
      "56/56 - 0s - 672us/step - binary_accuracy: 0.8114 - loss: 0.3669 - val_binary_accuracy: 0.7964 - val_loss: 0.3429\n",
      "Epoch 117/200\n",
      "56/56 - 0s - 1ms/step - binary_accuracy: 0.8108 - loss: 0.3666 - val_binary_accuracy: 0.8009 - val_loss: 0.3422\n",
      "Epoch 118/200\n",
      "56/56 - 0s - 649us/step - binary_accuracy: 0.8139 - loss: 0.3663 - val_binary_accuracy: 0.8076 - val_loss: 0.3419\n",
      "Epoch 119/200\n",
      "56/56 - 0s - 638us/step - binary_accuracy: 0.8148 - loss: 0.3658 - val_binary_accuracy: 0.8076 - val_loss: 0.3414\n",
      "Epoch 120/200\n",
      "56/56 - 0s - 647us/step - binary_accuracy: 0.8134 - loss: 0.3653 - val_binary_accuracy: 0.7987 - val_loss: 0.3412\n",
      "Epoch 121/200\n",
      "56/56 - 0s - 640us/step - binary_accuracy: 0.8086 - loss: 0.3650 - val_binary_accuracy: 0.8076 - val_loss: 0.3409\n",
      "Epoch 122/200\n",
      "56/56 - 0s - 634us/step - binary_accuracy: 0.8103 - loss: 0.3646 - val_binary_accuracy: 0.7987 - val_loss: 0.3406\n",
      "Epoch 123/200\n",
      "56/56 - 0s - 641us/step - binary_accuracy: 0.8134 - loss: 0.3642 - val_binary_accuracy: 0.8031 - val_loss: 0.3402\n",
      "Epoch 124/200\n",
      "56/56 - 0s - 638us/step - binary_accuracy: 0.8100 - loss: 0.3638 - val_binary_accuracy: 0.7987 - val_loss: 0.3398\n",
      "Epoch 125/200\n",
      "56/56 - 0s - 637us/step - binary_accuracy: 0.8097 - loss: 0.3636 - val_binary_accuracy: 0.8009 - val_loss: 0.3397\n",
      "Epoch 126/200\n",
      "56/56 - 0s - 636us/step - binary_accuracy: 0.8136 - loss: 0.3631 - val_binary_accuracy: 0.8076 - val_loss: 0.3389\n",
      "Epoch 127/200\n",
      "56/56 - 0s - 639us/step - binary_accuracy: 0.8125 - loss: 0.3627 - val_binary_accuracy: 0.7987 - val_loss: 0.3389\n",
      "Epoch 128/200\n",
      "56/56 - 0s - 640us/step - binary_accuracy: 0.8103 - loss: 0.3623 - val_binary_accuracy: 0.8076 - val_loss: 0.3383\n",
      "Epoch 129/200\n",
      "56/56 - 0s - 638us/step - binary_accuracy: 0.8125 - loss: 0.3620 - val_binary_accuracy: 0.8166 - val_loss: 0.3382\n",
      "Epoch 130/200\n",
      "56/56 - 0s - 629us/step - binary_accuracy: 0.8136 - loss: 0.3616 - val_binary_accuracy: 0.8054 - val_loss: 0.3377\n",
      "Epoch 131/200\n",
      "56/56 - 0s - 652us/step - binary_accuracy: 0.8139 - loss: 0.3613 - val_binary_accuracy: 0.8166 - val_loss: 0.3376\n",
      "Epoch 132/200\n",
      "56/56 - 0s - 635us/step - binary_accuracy: 0.8170 - loss: 0.3610 - val_binary_accuracy: 0.8076 - val_loss: 0.3371\n",
      "Epoch 133/200\n",
      "56/56 - 0s - 644us/step - binary_accuracy: 0.8122 - loss: 0.3606 - val_binary_accuracy: 0.8188 - val_loss: 0.3369\n",
      "Epoch 134/200\n",
      "56/56 - 0s - 642us/step - binary_accuracy: 0.8139 - loss: 0.3604 - val_binary_accuracy: 0.8188 - val_loss: 0.3367\n",
      "Epoch 135/200\n",
      "56/56 - 0s - 629us/step - binary_accuracy: 0.8125 - loss: 0.3600 - val_binary_accuracy: 0.8166 - val_loss: 0.3363\n",
      "Epoch 136/200\n",
      "56/56 - 0s - 638us/step - binary_accuracy: 0.8114 - loss: 0.3597 - val_binary_accuracy: 0.8121 - val_loss: 0.3358\n",
      "Epoch 137/200\n",
      "56/56 - 0s - 643us/step - binary_accuracy: 0.8136 - loss: 0.3593 - val_binary_accuracy: 0.8143 - val_loss: 0.3357\n",
      "Epoch 138/200\n",
      "56/56 - 0s - 635us/step - binary_accuracy: 0.8161 - loss: 0.3591 - val_binary_accuracy: 0.8098 - val_loss: 0.3351\n",
      "Epoch 139/200\n",
      "56/56 - 0s - 638us/step - binary_accuracy: 0.8125 - loss: 0.3587 - val_binary_accuracy: 0.8121 - val_loss: 0.3350\n",
      "Epoch 140/200\n",
      "56/56 - 0s - 637us/step - binary_accuracy: 0.8173 - loss: 0.3584 - val_binary_accuracy: 0.8166 - val_loss: 0.3348\n",
      "Epoch 141/200\n",
      "56/56 - 0s - 641us/step - binary_accuracy: 0.8156 - loss: 0.3581 - val_binary_accuracy: 0.8233 - val_loss: 0.3342\n",
      "Epoch 142/200\n",
      "56/56 - 0s - 639us/step - binary_accuracy: 0.8198 - loss: 0.3578 - val_binary_accuracy: 0.8255 - val_loss: 0.3340\n",
      "Epoch 143/200\n",
      "56/56 - 0s - 636us/step - binary_accuracy: 0.8161 - loss: 0.3575 - val_binary_accuracy: 0.8255 - val_loss: 0.3338\n",
      "Epoch 144/200\n",
      "56/56 - 0s - 638us/step - binary_accuracy: 0.8170 - loss: 0.3571 - val_binary_accuracy: 0.8233 - val_loss: 0.3337\n",
      "Epoch 145/200\n",
      "56/56 - 0s - 650us/step - binary_accuracy: 0.8125 - loss: 0.3570 - val_binary_accuracy: 0.8255 - val_loss: 0.3331\n",
      "Epoch 146/200\n",
      "56/56 - 0s - 637us/step - binary_accuracy: 0.8161 - loss: 0.3566 - val_binary_accuracy: 0.8166 - val_loss: 0.3329\n",
      "Epoch 147/200\n",
      "56/56 - 0s - 652us/step - binary_accuracy: 0.8181 - loss: 0.3564 - val_binary_accuracy: 0.8143 - val_loss: 0.3327\n",
      "Epoch 148/200\n",
      "56/56 - 0s - 640us/step - binary_accuracy: 0.8187 - loss: 0.3562 - val_binary_accuracy: 0.8143 - val_loss: 0.3325\n",
      "Epoch 149/200\n",
      "56/56 - 0s - 630us/step - binary_accuracy: 0.8175 - loss: 0.3557 - val_binary_accuracy: 0.8233 - val_loss: 0.3324\n",
      "Epoch 150/200\n",
      "56/56 - 0s - 638us/step - binary_accuracy: 0.8184 - loss: 0.3555 - val_binary_accuracy: 0.8233 - val_loss: 0.3321\n",
      "Epoch 151/200\n",
      "56/56 - 0s - 644us/step - binary_accuracy: 0.8187 - loss: 0.3552 - val_binary_accuracy: 0.8255 - val_loss: 0.3318\n",
      "Epoch 152/200\n",
      "56/56 - 0s - 636us/step - binary_accuracy: 0.8209 - loss: 0.3550 - val_binary_accuracy: 0.8143 - val_loss: 0.3315\n",
      "Epoch 153/200\n",
      "56/56 - 0s - 640us/step - binary_accuracy: 0.8189 - loss: 0.3547 - val_binary_accuracy: 0.8210 - val_loss: 0.3315\n",
      "Epoch 154/200\n",
      "56/56 - 0s - 1ms/step - binary_accuracy: 0.8139 - loss: 0.3543 - val_binary_accuracy: 0.8166 - val_loss: 0.3311\n",
      "Epoch 155/200\n",
      "56/56 - 0s - 649us/step - binary_accuracy: 0.8184 - loss: 0.3541 - val_binary_accuracy: 0.8188 - val_loss: 0.3307\n",
      "Epoch 156/200\n",
      "56/56 - 0s - 642us/step - binary_accuracy: 0.8198 - loss: 0.3539 - val_binary_accuracy: 0.8143 - val_loss: 0.3304\n",
      "Epoch 157/200\n",
      "56/56 - 0s - 637us/step - binary_accuracy: 0.8189 - loss: 0.3536 - val_binary_accuracy: 0.8143 - val_loss: 0.3302\n",
      "Epoch 158/200\n",
      "56/56 - 0s - 635us/step - binary_accuracy: 0.8181 - loss: 0.3534 - val_binary_accuracy: 0.8210 - val_loss: 0.3301\n",
      "Epoch 159/200\n",
      "56/56 - 0s - 644us/step - binary_accuracy: 0.8178 - loss: 0.3531 - val_binary_accuracy: 0.8143 - val_loss: 0.3299\n",
      "Epoch 160/200\n",
      "56/56 - 0s - 634us/step - binary_accuracy: 0.8145 - loss: 0.3529 - val_binary_accuracy: 0.8143 - val_loss: 0.3295\n",
      "Epoch 161/200\n",
      "56/56 - 0s - 638us/step - binary_accuracy: 0.8192 - loss: 0.3526 - val_binary_accuracy: 0.8210 - val_loss: 0.3297\n",
      "Epoch 162/200\n",
      "56/56 - 0s - 635us/step - binary_accuracy: 0.8156 - loss: 0.3523 - val_binary_accuracy: 0.8210 - val_loss: 0.3293\n",
      "Epoch 163/200\n",
      "56/56 - 0s - 641us/step - binary_accuracy: 0.8201 - loss: 0.3521 - val_binary_accuracy: 0.8210 - val_loss: 0.3291\n",
      "Epoch 164/200\n",
      "56/56 - 0s - 635us/step - binary_accuracy: 0.8142 - loss: 0.3519 - val_binary_accuracy: 0.8143 - val_loss: 0.3288\n",
      "Epoch 165/200\n",
      "56/56 - 0s - 644us/step - binary_accuracy: 0.8195 - loss: 0.3516 - val_binary_accuracy: 0.8166 - val_loss: 0.3286\n",
      "Epoch 166/200\n",
      "56/56 - 0s - 629us/step - binary_accuracy: 0.8175 - loss: 0.3514 - val_binary_accuracy: 0.8210 - val_loss: 0.3285\n",
      "Epoch 167/200\n",
      "56/56 - 0s - 642us/step - binary_accuracy: 0.8153 - loss: 0.3512 - val_binary_accuracy: 0.8143 - val_loss: 0.3279\n",
      "Epoch 168/200\n",
      "56/56 - 0s - 646us/step - binary_accuracy: 0.8198 - loss: 0.3508 - val_binary_accuracy: 0.8210 - val_loss: 0.3283\n",
      "Epoch 169/200\n",
      "56/56 - 0s - 687us/step - binary_accuracy: 0.8201 - loss: 0.3505 - val_binary_accuracy: 0.8188 - val_loss: 0.3277\n",
      "Epoch 170/200\n",
      "56/56 - 0s - 699us/step - binary_accuracy: 0.8189 - loss: 0.3503 - val_binary_accuracy: 0.8210 - val_loss: 0.3275\n",
      "Epoch 171/200\n",
      "56/56 - 0s - 652us/step - binary_accuracy: 0.8198 - loss: 0.3501 - val_binary_accuracy: 0.8121 - val_loss: 0.3271\n",
      "Epoch 172/200\n",
      "56/56 - 0s - 692us/step - binary_accuracy: 0.8167 - loss: 0.3499 - val_binary_accuracy: 0.8210 - val_loss: 0.3269\n",
      "Epoch 173/200\n",
      "56/56 - 0s - 710us/step - binary_accuracy: 0.8181 - loss: 0.3496 - val_binary_accuracy: 0.8166 - val_loss: 0.3269\n",
      "Epoch 174/200\n",
      "56/56 - 0s - 641us/step - binary_accuracy: 0.8198 - loss: 0.3494 - val_binary_accuracy: 0.8188 - val_loss: 0.3268\n",
      "Epoch 175/200\n",
      "56/56 - 0s - 634us/step - binary_accuracy: 0.8201 - loss: 0.3491 - val_binary_accuracy: 0.8166 - val_loss: 0.3264\n",
      "Epoch 176/200\n",
      "56/56 - 0s - 642us/step - binary_accuracy: 0.8203 - loss: 0.3489 - val_binary_accuracy: 0.8166 - val_loss: 0.3263\n",
      "Epoch 177/200\n",
      "56/56 - 0s - 647us/step - binary_accuracy: 0.8198 - loss: 0.3487 - val_binary_accuracy: 0.8188 - val_loss: 0.3262\n",
      "Epoch 178/200\n",
      "56/56 - 0s - 663us/step - binary_accuracy: 0.8209 - loss: 0.3485 - val_binary_accuracy: 0.8210 - val_loss: 0.3261\n",
      "Epoch 179/200\n",
      "56/56 - 0s - 641us/step - binary_accuracy: 0.8189 - loss: 0.3483 - val_binary_accuracy: 0.8210 - val_loss: 0.3259\n",
      "Epoch 180/200\n",
      "56/56 - 0s - 644us/step - binary_accuracy: 0.8206 - loss: 0.3480 - val_binary_accuracy: 0.8210 - val_loss: 0.3257\n",
      "Epoch 181/200\n",
      "56/56 - 0s - 634us/step - binary_accuracy: 0.8217 - loss: 0.3479 - val_binary_accuracy: 0.8233 - val_loss: 0.3252\n",
      "Epoch 182/200\n",
      "56/56 - 0s - 643us/step - binary_accuracy: 0.8167 - loss: 0.3476 - val_binary_accuracy: 0.8210 - val_loss: 0.3255\n",
      "Epoch 183/200\n",
      "56/56 - 0s - 637us/step - binary_accuracy: 0.8217 - loss: 0.3474 - val_binary_accuracy: 0.8210 - val_loss: 0.3252\n",
      "Epoch 184/200\n",
      "56/56 - 0s - 639us/step - binary_accuracy: 0.8229 - loss: 0.3472 - val_binary_accuracy: 0.8233 - val_loss: 0.3248\n",
      "Epoch 185/200\n",
      "56/56 - 0s - 632us/step - binary_accuracy: 0.8192 - loss: 0.3470 - val_binary_accuracy: 0.8210 - val_loss: 0.3247\n",
      "Epoch 186/200\n",
      "56/56 - 0s - 649us/step - binary_accuracy: 0.8226 - loss: 0.3467 - val_binary_accuracy: 0.8210 - val_loss: 0.3247\n",
      "Epoch 187/200\n",
      "56/56 - 0s - 649us/step - binary_accuracy: 0.8198 - loss: 0.3466 - val_binary_accuracy: 0.8210 - val_loss: 0.3245\n",
      "Epoch 188/200\n",
      "56/56 - 0s - 637us/step - binary_accuracy: 0.8217 - loss: 0.3464 - val_binary_accuracy: 0.8210 - val_loss: 0.3244\n",
      "Epoch 189/200\n",
      "56/56 - 0s - 639us/step - binary_accuracy: 0.8223 - loss: 0.3463 - val_binary_accuracy: 0.8210 - val_loss: 0.3241\n",
      "Epoch 190/200\n",
      "56/56 - 0s - 643us/step - binary_accuracy: 0.8195 - loss: 0.3461 - val_binary_accuracy: 0.8188 - val_loss: 0.3237\n",
      "Epoch 191/200\n",
      "56/56 - 0s - 1ms/step - binary_accuracy: 0.8217 - loss: 0.3459 - val_binary_accuracy: 0.8210 - val_loss: 0.3235\n",
      "Epoch 192/200\n",
      "56/56 - 0s - 654us/step - binary_accuracy: 0.8209 - loss: 0.3456 - val_binary_accuracy: 0.8233 - val_loss: 0.3235\n",
      "Epoch 193/200\n",
      "56/56 - 0s - 642us/step - binary_accuracy: 0.8206 - loss: 0.3454 - val_binary_accuracy: 0.8188 - val_loss: 0.3233\n",
      "Epoch 194/200\n",
      "56/56 - 0s - 640us/step - binary_accuracy: 0.8217 - loss: 0.3452 - val_binary_accuracy: 0.8233 - val_loss: 0.3231\n",
      "Epoch 195/200\n",
      "56/56 - 0s - 645us/step - binary_accuracy: 0.8209 - loss: 0.3450 - val_binary_accuracy: 0.8233 - val_loss: 0.3231\n",
      "Epoch 196/200\n",
      "56/56 - 0s - 640us/step - binary_accuracy: 0.8220 - loss: 0.3449 - val_binary_accuracy: 0.8188 - val_loss: 0.3229\n",
      "Epoch 197/200\n",
      "56/56 - 0s - 636us/step - binary_accuracy: 0.8189 - loss: 0.3447 - val_binary_accuracy: 0.8188 - val_loss: 0.3226\n",
      "Epoch 198/200\n",
      "56/56 - 0s - 650us/step - binary_accuracy: 0.8201 - loss: 0.3445 - val_binary_accuracy: 0.8188 - val_loss: 0.3225\n",
      "Epoch 199/200\n",
      "56/56 - 0s - 633us/step - binary_accuracy: 0.8192 - loss: 0.3444 - val_binary_accuracy: 0.8233 - val_loss: 0.3226\n",
      "Epoch 200/200\n",
      "56/56 - 0s - 635us/step - binary_accuracy: 0.8217 - loss: 0.3442 - val_binary_accuracy: 0.8233 - val_loss: 0.3225\n"
     ]
    }
   ],
   "source": [
    "from tensorflow.keras.callbacks import EarlyStopping\n",
    "\n",
    "early_stopping = EarlyStopping(patience=3)   #patience: 可以容忍至多3個上下震盪的val loss，防止overfitting\n",
    "\n",
    "# val_loss 開始上下震盪 -> Overfitting，使用EarlyStopping()\n",
    "history = model.fit(\n",
    "    train_inputs,\n",
    "    train_targets,\n",
    "    batch_size=config['batch_size'],\n",
    "    epochs=config['epoch_size'],\n",
    "    callbacks=[early_stopping],\n",
    "    validation_data=(validation_inputs, validation_targets),\n",
    "    verbose=2\n",
    ")\n"
   ]
  },
  {
   "cell_type": "code",
   "execution_count": 108,
   "metadata": {},
   "outputs": [
    {
     "data": {
      "text/plain": [
       "<Axes: title={'center': 'Accuracy'}>"
      ]
     },
     "execution_count": 108,
     "metadata": {},
     "output_type": "execute_result"
    },
    {
     "data": {
      "image/png": "[encoded data removed]",
      "text/plain": [
       "<Figure size 640x480 with 1 Axes>"
      ]
     },
     "metadata": {},
     "output_type": "display_data"
    },
    {
     "data": {
      "image/png": "[encoded data removed]",
      "text/plain": [
       "<Figure size 640x480 with 1 Axes>"
      ]
     },
     "metadata": {},
     "output_type": "display_data"
    }
   ],
   "source": [
    "history_df = pd.DataFrame(history.history)\n",
    "history_df.loc[:, ['loss', 'val_loss']].plot(title=\"Cross-entropy\")\n",
    "history_df.loc[:, ['binary_accuracy', 'val_binary_accuracy']].plot(title=\"Accuracy\")"
   ]
  },
  {
   "cell_type": "markdown",
   "metadata": {},
   "source": [
    "## Test"
   ]
  },
  {
   "cell_type": "code",
   "execution_count": 109,
   "metadata": {},
   "outputs": [
    {
     "name": "stdout",
     "output_type": "stream",
     "text": [
      "\u001b[1m14/14\u001b[0m \u001b[32m━━━━━━━━━━━━━━━━━━━━\u001b[0m\u001b[37m\u001b[0m \u001b[1m0s\u001b[0m 670us/step - binary_accuracy: 0.8016 - loss: 0.3597\n",
      "Test loss: 0.37. Test accuracy: 79.46%\n"
     ]
    }
   ],
   "source": [
    "test_loss, test_accuracy = model.evaluate(test_inputs, test_targets)\n",
    "print('Test loss: {0:.2f}. Test accuracy: {1:.2f}%'.format(test_loss, test_accuracy*100.))"
   ]
  },
  {
   "cell_type": "markdown",
   "metadata": {},
   "source": [
    "## Recording Hyperparameter Tuning"
   ]
  },
  {
   "cell_type": "code",
   "execution_count": 110,
   "metadata": {},
   "outputs": [],
   "source": [
    "records.append({\n",
    "    'hidden_layer_size': config['hidden_layer_size'],\n",
    "    'batch': config['batch_size'],\n",
    "    'epoch': config['epoch_size'],\n",
    "    'test_loss': round(test_loss, 2), \n",
    "    'test_accuracy': round(test_accuracy, 3)\n",
    "})"
   ]
  },
  {
   "cell_type": "code",
   "execution_count": 111,
   "metadata": {},
   "outputs": [
    {
     "name": "stdout",
     "output_type": "stream",
     "text": [
      "[{'hidden_layer_size': 64, 'batch': 64, 'epoch': 200, 'test_loss': 0.37, 'test_accuracy': 0.804}]\n"
     ]
    }
   ],
   "source": [
    "import json\n",
    "\n",
    "json_records = json.dumps(records)\n",
    "with open('records.json', 'w') as f:\n",
    "    f.write(json_records)\n",
    "\n",
    "# Load the JSON string back into a dictionary\n",
    "records_dict = json.loads(json_records)\n",
    "\n",
    "test_accuracies = [record['test_accuracy'] for record in records_dict]\n",
    "max_accuracy = max(test_accuracies)\n",
    "\n",
    "highest_accuracy_indices = [record for record in records_dict if record['test_accuracy'] == max_accuracy]\n",
    "\n",
    "print(highest_accuracy_indices)\n"
   ]
  }
 ],
 "metadata": {
  "kernelspec": {
   "display_name": "py3-TF2",
   "language": "python",
   "name": "python3"
  },
  "language_info": {
   "codemirror_mode": {
    "name": "ipython",
    "version": 3
   },
   "file_extension": ".py",
   "mimetype": "text/x-python",
   "name": "python",
   "nbconvert_exporter": "python",
   "pygments_lexer": "ipython3",
   "version": "3.12.7"
  }
 },
 "nbformat": 4,
 "nbformat_minor": 2
}
